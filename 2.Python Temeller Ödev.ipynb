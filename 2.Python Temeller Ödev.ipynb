{
 "cells": [
  {
   "cell_type": "code",
   "execution_count": 2,
   "metadata": {},
   "outputs": [
    {
     "name": "stdout",
     "output_type": "stream",
     "text": [
      "x'in 7 gün sonraki değeri : 2210.6814074060812\n"
     ]
    }
   ],
   "source": [
    "x = 1000\n",
    "print (\"x'in 7 gün sonraki değeri :\", x*1.12**7)"
   ]
  },
  {
   "cell_type": "code",
   "execution_count": 1,
   "metadata": {},
   "outputs": [
    {
     "name": "stdout",
     "output_type": "stream",
     "text": [
      "Hafta başında 1000 dolarlık bitcoin aldığımızda günde ortalama %12 kazançla\n",
      "bir hafta sonunda 1210.68 kazanırdık\n"
     ]
    }
   ],
   "source": [
    "x = 1000\n",
    "y = '%12'\n",
    "z = 1210.68\n",
    "metin = \"\"\"Hafta başında {} dolarlık bitcoin aldığımızda günde ortalama {} kazançla\n",
    "bir hafta sonunda {} kazanırdık\"\"\" \n",
    "print (metin.format(x,y,z))"
   ]
  },
  {
   "cell_type": "code",
   "execution_count": 2,
   "metadata": {},
   "outputs": [
    {
     "name": "stdout",
     "output_type": "stream",
     "text": [
      "Dosya Adı:Ödev\n",
      "Ödev.py\n"
     ]
    }
   ],
   "source": [
    "A = input(\"Dosya Adı:\")\n",
    "B = \".py\"\n",
    "print (A+B)"
   ]
  },
  {
   "cell_type": "code",
   "execution_count": null,
   "metadata": {},
   "outputs": [],
   "source": []
  }
 ],
 "metadata": {
  "kernelspec": {
   "display_name": "Python 3",
   "language": "python",
   "name": "python3"
  },
  "language_info": {
   "codemirror_mode": {
    "name": "ipython",
    "version": 3
   },
   "file_extension": ".py",
   "mimetype": "text/x-python",
   "name": "python",
   "nbconvert_exporter": "python",
   "pygments_lexer": "ipython3",
   "version": "3.7.4"
  }
 },
 "nbformat": 4,
 "nbformat_minor": 2
}
