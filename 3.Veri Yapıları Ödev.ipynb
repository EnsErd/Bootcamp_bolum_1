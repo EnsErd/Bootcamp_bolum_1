{
 "cells": [
  {
   "cell_type": "code",
   "execution_count": 11,
   "metadata": {},
   "outputs": [
    {
     "name": "stdout",
     "output_type": "stream",
     "text": [
      "Haftanın bir gününü seçiniz:3\n",
      "Haftanın diğer bir gününü seçiniz:5\n",
      "Seçtiğiniz günler listenizden çıkarılmıştır. \n",
      "\n",
      "Güncel listeniz: ['pazartesi', 'salı', 'perşembe', 'cumartesi', 'pazar']\n"
     ]
    }
   ],
   "source": [
    "Günler = {\"1\"  : \"pazartesi\",\n",
    "          \"2\"  : \"salı\" ,\n",
    "          \"3\"  : \"çarşamba\" ,\n",
    "          \"4\"  : \"perşembe\" ,\n",
    "          \"5\"  : \"cuma\" ,\n",
    "          \"6\"  : \"cumartesi\" ,\n",
    "          \"7\"  : \"pazar\" \n",
    "         }\n",
    "x = input (\"Haftanın bir gününü seçiniz:\")\n",
    "y = input (\"Haftanın diğer bir gününü seçiniz:\")\n",
    "print (\"Seçtiğiniz günler listenizden çıkarılmıştır.\", \"\\n\")\n",
    "print (\"Güncel listeniz:\", end = \" \")\n",
    "del Günler[x]\n",
    "del Günler[y]\n",
    "print(list(Günler.values()))"
   ]
  },
  {
   "cell_type": "code",
   "execution_count": 4,
   "metadata": {},
   "outputs": [
    {
     "name": "stdout",
     "output_type": "stream",
     "text": [
      "[('Ocak', 31), ('Şubat', 28), ('Mart', 31), ('Nisan', 30), ('Mayıs', 31), ('Haziran', 30), ('Temmuz', 31), ('Ağustos', 31), ('Eylül', 30), ('Ekim', 31), ('Kasım', 30), ('Aralık', 31)] \n",
      "\n"
     ]
    }
   ],
   "source": [
    "Aylar = {'Ocak':31,\n",
    "         'Şubat':28,\n",
    "         'Mart':31,\n",
    "         'Nisan':30,\n",
    "         'Mayıs':31,\n",
    "         'Haziran':30,\n",
    "         'Temmuz':31,\n",
    "         'Ağustos':31,\n",
    "         'Eylül':30,\n",
    "         'Ekim':31,\n",
    "         'Kasım':30,\n",
    "         'Aralık':31}\n",
    "print(list(Aylar.items()),'\\n')"
   ]
  },
  {
   "cell_type": "code",
   "execution_count": 39,
   "metadata": {},
   "outputs": [
    {
     "name": "stdout",
     "output_type": "stream",
     "text": [
      "dict_keys(['Ocak', 'Şubat', 'Mart', 'Nisan', 'Mayıs', 'Haziran', 'Temmuz', 'Ağustos', 'Eylül', 'Ekim', 'Kasım', 'Aralık']) \n",
      "\n",
      "dict_values([31, 28, 31, 30, 31, 30, 31, 31, 30, 31, 30, 31]) \n",
      "\n"
     ]
    }
   ],
   "source": [
    "print (Aylar.keys(),'\\n')\n",
    "print (Aylar.values(),'\\n')"
   ]
  },
  {
   "cell_type": "code",
   "execution_count": 45,
   "metadata": {},
   "outputs": [
    {
     "name": "stdout",
     "output_type": "stream",
     "text": [
      "[['Mart', 'Nisan', 'Mayıs'], ['Haziran', 'Temmuz', 'Ağustos'], ['Eylül', 'Ekim', 'Kasım'], ['Aralık', 'Ocak', 'Şubat']]\n"
     ]
    }
   ],
   "source": [
    "ilkbahar = ['Mart', 'Nisan', 'Mayıs']\n",
    "yaz = ['Haziran', 'Temmuz','Ağustos']\n",
    "sonbahar = ['Eylül', 'Ekim', 'Kasım']\n",
    "kış = ['Aralık', 'Ocak', 'Şubat']\n",
    "mevsimler = [ilkbahar, yaz, sonbahar, kış,]\n",
    "print(mevsimler)\n"
   ]
  },
  {
   "cell_type": "code",
   "execution_count": 12,
   "metadata": {},
   "outputs": [
    {
     "name": "stdout",
     "output_type": "stream",
     "text": [
      "92\n"
     ]
    }
   ],
   "source": [
    "print(Aylar[\"Haziran\"]+Aylar[\"Temmuz\"]+Aylar[\"Ağustos\"])"
   ]
  },
  {
   "cell_type": "code",
   "execution_count": null,
   "metadata": {},
   "outputs": [],
   "source": []
  }
 ],
 "metadata": {
  "kernelspec": {
   "display_name": "Python 3",
   "language": "python",
   "name": "python3"
  },
  "language_info": {
   "codemirror_mode": {
    "name": "ipython",
    "version": 3
   },
   "file_extension": ".py",
   "mimetype": "text/x-python",
   "name": "python",
   "nbconvert_exporter": "python",
   "pygments_lexer": "ipython3",
   "version": "3.7.4"
  }
 },
 "nbformat": 4,
 "nbformat_minor": 2
}
